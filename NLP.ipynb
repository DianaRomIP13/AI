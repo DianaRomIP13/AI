{
  "cells": [
    {
      "cell_type": "code",
      "execution_count": null,
      "metadata": {
        "id": "0hqXtvUw_Jkl"
      },
      "outputs": [],
      "source": [
        "import numpy as np\n",
        "import pandas as pd\n",
        "from sklearn.model_selection import train_test_split\n",
        "import re\n",
        "import nltk\n",
        "from nltk.corpus import stopwords\n",
        "from nltk.stem.porter import PorterStemmer\n",
        "from sklearn.feature_extraction.text import CountVectorizer\n",
        "from sklearn.preprocessing import LabelEncoder\n",
        "from sklearn.naive_bayes import MultinomialNB\n",
        "from sklearn.metrics import accuracy_score\n",
        "from sklearn.metrics import confusion_matrix, accuracy_score\n",
        "\n"
      ]
    },
    {
      "cell_type": "code",
      "execution_count": null,
      "metadata": {
        "colab": {
          "base_uri": "https://localhost:8080/"
        },
        "id": "lHIwvjvl_pQa",
        "outputId": "d7798998-400e-43b9-8033-3c8a54048314"
      },
      "outputs": [
        {
          "output_type": "stream",
          "name": "stdout",
          "text": [
            "Drive already mounted at /content/drive; to attempt to forcibly remount, call drive.mount(\"/content/drive\", force_remount=True).\n"
          ]
        }
      ],
      "source": [
        "#from google.colab import drive\n",
        "#drive.mount('/content/drive')"
      ]
    },
    {
      "cell_type": "code",
      "execution_count": null,
      "metadata": {
        "colab": {
          "base_uri": "https://localhost:8080/"
        },
        "id": "ViS4lsJj_7Le",
        "outputId": "c93e03ef-48e8-4288-b4ac-7ad1b9b90c41"
      },
      "outputs": [
        {
          "output_type": "stream",
          "name": "stdout",
          "text": [
            "/content/drive/MyDrive/Colab Notebooks/Task5\n",
            "labels.csv  reviews1.csv  reviews.csv  Untitled0.ipynb\n"
          ]
        }
      ],
      "source": [
        "#%cd /content/drive/MyDrive/Colab Notebooks/data\n",
        "#!ls"
      ]
    },
    {
      "cell_type": "code",
      "execution_count": null,
      "metadata": {
        "colab": {
          "base_uri": "https://localhost:8080/"
        },
        "id": "bzS05iezBbzY",
        "outputId": "27cc5be6-9eab-4d09-f640-5670d7137ee0"
      },
      "outputs": [
        {
          "output_type": "stream",
          "name": "stdout",
          "text": [
            "<class 'pandas.core.frame.DataFrame'>\n",
            "RangeIndex: 254 entries, 0 to 253\n",
            "Data columns (total 2 columns):\n",
            " #   Column  Non-Null Count  Dtype \n",
            "---  ------  --------------  ----- \n",
            " 0   id      254 non-null    int64 \n",
            " 1   text    254 non-null    object\n",
            "dtypes: int64(1), object(1)\n",
            "memory usage: 4.1+ KB\n"
          ]
        },
        {
          "output_type": "execute_result",
          "data": {
            "text/plain": [
              "(254, 2)"
            ]
          },
          "metadata": {},
          "execution_count": 14
        }
      ],
      "source": [
        "pd.set_option('display.max_columns', None)\n",
        "df_rev = pd.read_csv('reviews.csv', delimiter=',', decimal=',', encoding='UTF-8')\n",
        "df_rev.info()\n",
        "df_rev.head()\n",
        "df_rev.shape"
      ]
    },
    {
      "cell_type": "code",
      "execution_count": null,
      "metadata": {
        "colab": {
          "base_uri": "https://localhost:8080/"
        },
        "id": "sEJuaJY2B-Qm",
        "outputId": "e775ff74-5f8e-4097-cd43-4e6bbf632031"
      },
      "outputs": [
        {
          "output_type": "stream",
          "name": "stdout",
          "text": [
            "<class 'pandas.core.frame.DataFrame'>\n",
            "RangeIndex: 254 entries, 0 to 253\n",
            "Data columns (total 2 columns):\n",
            " #   Column     Non-Null Count  Dtype \n",
            "---  ------     --------------  ----- \n",
            " 0   id         254 non-null    int64 \n",
            " 1   sentiment  254 non-null    object\n",
            "dtypes: int64(1), object(1)\n",
            "memory usage: 4.1+ KB\n"
          ]
        },
        {
          "output_type": "execute_result",
          "data": {
            "text/plain": [
              "(254, 2)"
            ]
          },
          "metadata": {},
          "execution_count": 15
        }
      ],
      "source": [
        "pd.set_option('display.max_columns', None)\n",
        "df_leb = pd.read_csv('labels.csv', delimiter=',', decimal=',', encoding='UTF-8')\n",
        "df_leb.info()\n",
        "df_leb.head()\n",
        "df_leb.shape"
      ]
    },
    {
      "cell_type": "code",
      "execution_count": null,
      "metadata": {
        "colab": {
          "base_uri": "https://localhost:8080/"
        },
        "id": "M84Vu4svWKAm",
        "outputId": "64d49f63-81a0-4a74-8137-a3138292e3e2"
      },
      "outputs": [
        {
          "output_type": "stream",
          "name": "stdout",
          "text": [
            "<class 'pandas.core.frame.DataFrame'>\n",
            "Int64Index: 254 entries, 0 to 253\n",
            "Data columns (total 3 columns):\n",
            " #   Column     Non-Null Count  Dtype \n",
            "---  ------     --------------  ----- \n",
            " 0   id         254 non-null    int64 \n",
            " 1   sentiment  254 non-null    object\n",
            " 2   text       254 non-null    object\n",
            "dtypes: int64(1), object(2)\n",
            "memory usage: 7.9+ KB\n"
          ]
        },
        {
          "output_type": "execute_result",
          "data": {
            "text/plain": [
              "(254, 3)"
            ]
          },
          "metadata": {},
          "execution_count": 19
        }
      ],
      "source": [
        "df = pd.merge(df_leb, df_rev, on='id', how='inner')\n",
        "df.info()\n",
        "df.head()\n",
        "df.shape\n",
        "\n",
        "\n"
      ]
    },
    {
      "cell_type": "code",
      "execution_count": null,
      "metadata": {
        "id": "tqVd-iaIZdyC"
      },
      "outputs": [],
      "source": [
        "x = df['text']\n",
        "y = df['sentiment']\n",
        "\n",
        "label_encoder = LabelEncoder()\n",
        "y = label_encoder.fit_transform(y)\n",
        "\n",
        "x_train, x_test, y_train, y_test = train_test_split(x, y, test_size=0.7, random_state=42)\n"
      ]
    },
    {
      "cell_type": "code",
      "execution_count": null,
      "metadata": {
        "colab": {
          "base_uri": "https://localhost:8080/"
        },
        "id": "Oj2aFupUCr9p",
        "outputId": "a694f493-ad62-4cb0-ddf2-feeb9ee42aaf"
      },
      "outputs": [
        {
          "output_type": "stream",
          "name": "stderr",
          "text": [
            "[nltk_data] Downloading package stopwords to /root/nltk_data...\n",
            "[nltk_data]   Package stopwords is already up-to-date!\n"
          ]
        }
      ],
      "source": [
        "nltk.download('stopwords')\n",
        "ps = PorterStemmer()\n",
        "\n",
        "all_stopwords = stopwords.words('english')\n",
        "all_stopwords.remove('not')"
      ]
    },
    {
      "cell_type": "code",
      "execution_count": null,
      "metadata": {
        "id": "ydio719sDINo"
      },
      "outputs": [],
      "source": [
        "corpus = []\n",
        "ids = []\n",
        "for i in range(len(x_train)):\n",
        "    review = re.sub('[^a-zA-Z]', ' ', x_train.iloc[i])\n",
        "    review = review.lower()\n",
        "    review = review.split()\n",
        "    review = [ps.stem(word) for word in review if not word in all_stopwords]\n",
        "    review = ' '.join(review)\n",
        "    corpus.append(review)\n",
        "    ids.append(x_train.index[i])"
      ]
    },
    {
      "cell_type": "code",
      "execution_count": null,
      "metadata": {
        "id": "Nn8DN2FBEoO-"
      },
      "outputs": [],
      "source": [
        "corpus"
      ]
    },
    {
      "cell_type": "code",
      "execution_count": null,
      "metadata": {
        "colab": {
          "base_uri": "https://localhost:8080/"
        },
        "id": "XWEhse1qE2cB",
        "outputId": "1ead5c05-32db-4162-84e6-9843e6b8ebf5"
      },
      "outputs": [
        {
          "output_type": "stream",
          "name": "stdout",
          "text": [
            "Матриця очікувань:\n",
            "[[60 12]\n",
            " [10 96]]\n",
            "Точність моделі на тестовому наборі: 87.64%\n"
          ]
        }
      ],
      "source": [
        "vectorizer = CountVectorizer()\n",
        "x_train_vec = vectorizer.fit_transform(corpus)\n",
        "\n",
        "# Naive Bayes\n",
        "naive_bayes_model = MultinomialNB()\n",
        "naive_bayes_model.fit(x_train_vec, y_train)\n",
        "\n",
        "x_test_vec = vectorizer.transform(x_test)\n",
        "y_pred = naive_bayes_model.predict(x_test_vec)\n",
        "\n",
        "confusion = confusion_matrix(y_test, y_pred)\n",
        "\n",
        "print(\"Матриця очікувань:\")\n",
        "print(confusion)\n",
        "\n",
        "accuracy = accuracy_score(y_test, y_pred)\n",
        "\n",
        "print(f\"Точність моделі на тестовому наборі: {accuracy * 100:.2f}%\")"
      ]
    },
    {
      "cell_type": "code",
      "execution_count": null,
      "metadata": {
        "colab": {
          "base_uri": "https://localhost:8080/"
        },
        "id": "qP3H95l7Falz",
        "outputId": "d6534a87-6a5a-4114-e1c6-831dfdf75e35"
      },
      "outputs": [
        {
          "output_type": "stream",
          "name": "stderr",
          "text": [
            "[nltk_data] Downloading package stopwords to /root/nltk_data...\n",
            "[nltk_data]   Package stopwords is already up-to-date!\n"
          ]
        }
      ],
      "source": [
        "rev_res_df = pd.read_csv('reviews.csv')\n",
        "rev = rev_res_df['text']\n",
        "\n",
        "nltk.download('stopwords')\n",
        "ps = PorterStemmer()\n",
        "\n",
        "all_stopwords = stopwords.words('english')\n",
        "all_stopwords.remove('not')\n",
        "\n",
        "corpus = []\n",
        "ids = []\n",
        "for i in range(len(rev)):\n",
        "    review = re.sub('[^a-zA-Z]', ' ', rev.iloc[i])\n",
        "    review = review.lower()\n",
        "    review = review.split()\n",
        "    review = [ps.stem(word) for word in review if not word in all_stopwords]\n",
        "    review = ' '.join(review)\n",
        "    corpus.append(review)\n",
        "    ids.append(rev.index[i])\n",
        "\n",
        "\n",
        "\n",
        "rev = vectorizer.transform(corpus)\n",
        "rev_pred = naive_bayes_model.predict(rev)\n",
        "results_df = pd.DataFrame({'id': rev_res_df['id'], 'label': label_encoder.inverse_transform(rev_pred)})\n",
        "results_df.to_csv('classified_reviews.csv', index=False)"
      ]
    },
    {
      "cell_type": "code",
      "execution_count": null,
      "metadata": {
        "id": "bLXz10_AFcYH"
      },
      "outputs": [],
      "source": []
    }
  ],
  "metadata": {
    "colab": {
      "provenance": []
    },
    "kernelspec": {
      "display_name": "Python 3",
      "name": "python3"
    },
    "language_info": {
      "name": "python"
    }
  },
  "nbformat": 4,
  "nbformat_minor": 0
}